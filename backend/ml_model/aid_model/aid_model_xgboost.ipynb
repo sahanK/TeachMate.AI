{
 "cells": [
  {
   "cell_type": "markdown",
   "id": "12fdb692",
   "metadata": {},
   "source": [
    "## Importing Libraries"
   ]
  },
  {
   "cell_type": "code",
   "execution_count": null,
   "id": "2464954c",
   "metadata": {},
   "outputs": [],
   "source": [
    "import numpy as np\n",
    "import pandas as pd"
   ]
  },
  {
   "cell_type": "markdown",
   "id": "0027e6cc",
   "metadata": {},
   "source": [
    "## Importing dataset"
   ]
  },
  {
   "cell_type": "code",
   "execution_count": null,
   "id": "786de14d",
   "metadata": {
    "scrolled": false
   },
   "outputs": [],
   "source": [
    "dataset = pd.read_csv('../../data/data-6-model.csv')\n",
    "X = dataset.iloc[:, :-3].values\n",
    "y = dataset.iloc[:, -3].values\n",
    "print(X[0])\n",
    "print(y[0])\n",
    "dataset.head()"
   ]
  },
  {
   "cell_type": "markdown",
   "id": "72a7c767",
   "metadata": {},
   "source": [
    "## Encode Independant variables"
   ]
  },
  {
   "cell_type": "code",
   "execution_count": null,
   "id": "d10bfff2",
   "metadata": {},
   "outputs": [],
   "source": [
    "from sklearn.compose import ColumnTransformer\n",
    "from sklearn.preprocessing import OneHotEncoder\n",
    "ct = ColumnTransformer(transformers=[('encoder', OneHotEncoder(sparse_output = False), [1, 2, 3, 5])], remainder='passthrough')\n",
    "X = ct.fit_transform(X)\n",
    "print(X[0])"
   ]
  },
  {
   "cell_type": "markdown",
   "id": "62b536d5",
   "metadata": {},
   "source": [
    "## Encode dependant variables"
   ]
  },
  {
   "cell_type": "code",
   "execution_count": null,
   "id": "e9f877af",
   "metadata": {},
   "outputs": [],
   "source": [
    "from sklearn.preprocessing import LabelEncoder\n",
    "le = LabelEncoder()\n",
    "y = le.fit_transform(y)\n",
    "print(y[0])"
   ]
  },
  {
   "cell_type": "markdown",
   "id": "b1ec94a1",
   "metadata": {},
   "source": [
    "## Splitting dataset into Test set and Train set"
   ]
  },
  {
   "cell_type": "code",
   "execution_count": null,
   "id": "e656d89f",
   "metadata": {},
   "outputs": [],
   "source": [
    "from sklearn.model_selection import train_test_split\n",
    "X_train, X_test, y_train, y_test = train_test_split(X, y, test_size = 0.2, random_state = 0)"
   ]
  },
  {
   "cell_type": "markdown",
   "id": "3e96f839",
   "metadata": {},
   "source": [
    "## Feature scaling"
   ]
  },
  {
   "cell_type": "code",
   "execution_count": null,
   "id": "384737d1",
   "metadata": {},
   "outputs": [],
   "source": [
    "from sklearn.preprocessing import StandardScaler\n",
    "sc = StandardScaler()\n",
    "X_train[:, 20:] = sc.fit_transform(X_train[:, 20:])\n",
    "X_test[:, 20:] = sc.transform(X_test[:, 20:])\n",
    "print(X_train[0])"
   ]
  },
  {
   "cell_type": "markdown",
   "id": "9d69fbd6",
   "metadata": {},
   "source": [
    "## Train XGBoost model on the Train set"
   ]
  },
  {
   "cell_type": "code",
   "execution_count": null,
   "id": "7ac4ea04",
   "metadata": {},
   "outputs": [],
   "source": [
    "from xgboost import XGBClassifier\n",
    "classifier = XGBClassifier()\n",
    "classifier.fit(X_train, y_train)"
   ]
  },
  {
   "cell_type": "markdown",
   "id": "4572d92f",
   "metadata": {},
   "source": [
    "## Predict the Test set results"
   ]
  },
  {
   "cell_type": "code",
   "execution_count": null,
   "id": "1aa0ee44",
   "metadata": {},
   "outputs": [],
   "source": [
    "y_pred = classifier.predict(X_test)"
   ]
  },
  {
   "cell_type": "markdown",
   "id": "116ec634",
   "metadata": {},
   "source": [
    "## Create Confusion Matrix"
   ]
  },
  {
   "cell_type": "code",
   "execution_count": null,
   "id": "ff54a4d5",
   "metadata": {
    "scrolled": true
   },
   "outputs": [],
   "source": [
    "from sklearn.metrics import confusion_matrix, accuracy_score\n",
    "cm = confusion_matrix(y_test, y_pred)\n",
    "print(cm)\n",
    "print(accuracy_score(y_test, y_pred))"
   ]
  },
  {
   "cell_type": "markdown",
   "id": "3fd51c58",
   "metadata": {},
   "source": [
    "## Applying K-Fold Cross Validation"
   ]
  },
  {
   "cell_type": "code",
   "execution_count": null,
   "id": "af629cdd",
   "metadata": {
    "scrolled": true
   },
   "outputs": [],
   "source": [
    "from sklearn.model_selection import cross_val_score\n",
    "accuracies = cross_val_score(estimator = classifier, X = X_train, y = y_train, cv = 10)\n",
    "print(\"Accuracy : {:.2f}\".format(accuracies.mean()*100))\n",
    "print(\"Standard Deviation : {:.2f}\".format(accuracies.std()*100))"
   ]
  },
  {
   "cell_type": "markdown",
   "id": "5da6e4e0",
   "metadata": {},
   "source": [
    "## Applying GridSearch to find the best hyperparameters"
   ]
  },
  {
   "cell_type": "code",
   "execution_count": null,
   "id": "e9e9d620",
   "metadata": {},
   "outputs": [],
   "source": [
    "from sklearn.model_selection import GridSearchCV\n",
    "parameters = [{'max_depth': [1, 2, 3, 4, 5, 6],\n",
    "              'subsample': [0.5, 0.6, 0.7, 0.8, 0.9, 1],\n",
    "              'n_estimators': [10, 20, 30, 40, 50, 60, 70, 80, 90, 100],\n",
    "              'learning_rate': [0.5, 0.6, 0.7, 0.8, 0.9, 1]}]\n",
    "grid_search = GridSearchCV(estimator = classifier,\n",
    "                           param_grid = parameters,\n",
    "                           cv = 10,\n",
    "                           n_jobs = -1)\n",
    "grid_search.fit(X_train, y_train)\n",
    "best_accuracy = grid_search.best_score_\n",
    "best_parameters = grid_search.best_params_\n",
    "print(\"Best Accuracy : {:.2f}\".format(best_accuracy*100))\n",
    "print(\"Best parameters : \", best_parameters)"
   ]
  }
 ],
 "metadata": {
  "kernelspec": {
   "display_name": "Python 3 (ipykernel)",
   "language": "python",
   "name": "python3"
  },
  "language_info": {
   "codemirror_mode": {
    "name": "ipython",
    "version": 3
   },
   "file_extension": ".py",
   "mimetype": "text/x-python",
   "name": "python",
   "nbconvert_exporter": "python",
   "pygments_lexer": "ipython3",
   "version": "3.11.3"
  }
 },
 "nbformat": 4,
 "nbformat_minor": 5
}
